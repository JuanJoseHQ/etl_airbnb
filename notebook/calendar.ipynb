{
 "cells": [
  {
   "cell_type": "markdown",
   "id": "269aacc5",
   "metadata": {},
   "source": [
    "# Analisis Data Listings"
   ]
  },
  {
   "cell_type": "code",
   "execution_count": null,
   "id": "67e7fcb8",
   "metadata": {},
   "outputs": [],
   "source": [
    "#imports\n",
    "import pandas as pd\n",
    "import numpy as np"
   ]
  },
  {
   "cell_type": "markdown",
   "id": "7d29f091",
   "metadata": {},
   "source": [
    "# Exploracion del Conjunto de Datos"
   ]
  },
  {
   "cell_type": "markdown",
   "id": "0aa78376",
   "metadata": {},
   "source": [
    "## Exploracion General de los datos"
   ]
  },
  {
   "cell_type": "markdown",
   "id": "92d4a46f",
   "metadata": {},
   "source": [
    "En general, el archivo **no presenta campos significativos** para el proceso de limpieza y validación; sin embargo, para este caso específico se decidió **desagrupar la columna `date`**, con el fin de generar **nuevas columnas derivadas** que representen de manera explícita el **día, mes y año**.  \n"
   ]
  },
  {
   "cell_type": "code",
   "execution_count": 2,
   "id": "bf1e8ce3",
   "metadata": {},
   "outputs": [
    {
     "data": {
      "text/html": [
       "<div>\n",
       "<style scoped>\n",
       "    .dataframe tbody tr th:only-of-type {\n",
       "        vertical-align: middle;\n",
       "    }\n",
       "\n",
       "    .dataframe tbody tr th {\n",
       "        vertical-align: top;\n",
       "    }\n",
       "\n",
       "    .dataframe thead th {\n",
       "        text-align: right;\n",
       "    }\n",
       "</style>\n",
       "<table border=\"1\" class=\"dataframe\">\n",
       "  <thead>\n",
       "    <tr style=\"text-align: right;\">\n",
       "      <th></th>\n",
       "      <th>_id</th>\n",
       "      <th>listing_id</th>\n",
       "      <th>date</th>\n",
       "      <th>available</th>\n",
       "      <th>minimum_nights</th>\n",
       "      <th>maximum_nights</th>\n",
       "    </tr>\n",
       "  </thead>\n",
       "  <tbody>\n",
       "    <tr>\n",
       "      <th>0</th>\n",
       "      <td>68f06557b6fc8583a86f6501</td>\n",
       "      <td>35797</td>\n",
       "      <td>2025-06-26</td>\n",
       "      <td>False</td>\n",
       "      <td>1</td>\n",
       "      <td>7</td>\n",
       "    </tr>\n",
       "    <tr>\n",
       "      <th>1</th>\n",
       "      <td>68f06557b6fc8583a86f78f8</td>\n",
       "      <td>6114798</td>\n",
       "      <td>2025-06-26</td>\n",
       "      <td>True</td>\n",
       "      <td>2</td>\n",
       "      <td>99</td>\n",
       "    </tr>\n",
       "    <tr>\n",
       "      <th>2</th>\n",
       "      <td>68f06557b6fc8583a86f8fc4</td>\n",
       "      <td>247543</td>\n",
       "      <td>2025-06-26</td>\n",
       "      <td>False</td>\n",
       "      <td>4</td>\n",
       "      <td>30</td>\n",
       "    </tr>\n",
       "    <tr>\n",
       "      <th>3</th>\n",
       "      <td>68f06557b6fc8583a86f9e63</td>\n",
       "      <td>6345035</td>\n",
       "      <td>2025-06-26</td>\n",
       "      <td>False</td>\n",
       "      <td>2</td>\n",
       "      <td>30</td>\n",
       "    </tr>\n",
       "    <tr>\n",
       "      <th>4</th>\n",
       "      <td>68f06558b6fc8583a86fa698</td>\n",
       "      <td>6404543</td>\n",
       "      <td>2025-06-26</td>\n",
       "      <td>False</td>\n",
       "      <td>2</td>\n",
       "      <td>1125</td>\n",
       "    </tr>\n",
       "  </tbody>\n",
       "</table>\n",
       "</div>"
      ],
      "text/plain": [
       "                        _id  listing_id        date  available  \\\n",
       "0  68f06557b6fc8583a86f6501       35797  2025-06-26      False   \n",
       "1  68f06557b6fc8583a86f78f8     6114798  2025-06-26       True   \n",
       "2  68f06557b6fc8583a86f8fc4      247543  2025-06-26      False   \n",
       "3  68f06557b6fc8583a86f9e63     6345035  2025-06-26      False   \n",
       "4  68f06558b6fc8583a86fa698     6404543  2025-06-26      False   \n",
       "\n",
       "   minimum_nights  maximum_nights  \n",
       "0               1               7  \n",
       "1               2              99  \n",
       "2               4              30  \n",
       "3               2              30  \n",
       "4               2            1125  "
      ]
     },
     "metadata": {},
     "output_type": "display_data"
    }
   ],
   "source": [
    "#Lecura del archivo CSV\n",
    "df = pd.read_csv('../data/raw/calendar.csv', sep = ',', encoding = 'utf-8')\n",
    "#Imrpimir las primeras filas del DataFrame\n",
    "display(df.head())"
   ]
  },
  {
   "cell_type": "markdown",
   "id": "63716904",
   "metadata": {},
   "source": [
    "## Validacion de Nulos"
   ]
  },
  {
   "cell_type": "markdown",
   "id": "3a61399f",
   "metadata": {},
   "source": [
    "En el dataset no se presenta ningun valor nulo"
   ]
  },
  {
   "cell_type": "code",
   "execution_count": null,
   "id": "45d49d39",
   "metadata": {},
   "outputs": [
    {
     "data": {
      "text/plain": [
       "_id               4434\n",
       "listing_id        4434\n",
       "date              4434\n",
       "available         4434\n",
       "minimum_nights    4434\n",
       "maximum_nights    4434\n",
       "dtype: int64"
      ]
     },
     "execution_count": 7,
     "metadata": {},
     "output_type": "execute_result"
    }
   ],
   "source": [
    "#Contar el número de filas en el DataFrame\n",
    "df.count()"
   ]
  },
  {
   "cell_type": "markdown",
   "id": "c2cebe4a",
   "metadata": {},
   "source": [
    "# Transformaciones del conjunto de datos"
   ]
  },
  {
   "cell_type": "code",
   "execution_count": null,
   "id": "ebe508dd",
   "metadata": {},
   "outputs": [],
   "source": [
    "#Crear una copia del DataFrame original\n",
    "df_transfomraciones = df.copy()"
   ]
  },
  {
   "cell_type": "code",
   "execution_count": 4,
   "id": "b43e5476",
   "metadata": {},
   "outputs": [],
   "source": [
    "# Convertir a datetime de forma segura antes de desagregar\n",
    "df_transfomraciones['date'] = pd.to_datetime(df_transfomraciones['date'], errors='coerce')\n",
    "\n",
    "# Ahora sí puedes acceder a .dt\n",
    "df_transfomraciones['year'] = df_transfomraciones['date'].dt.year\n",
    "df_transfomraciones['month'] = df_transfomraciones['date'].dt.month\n",
    "df_transfomraciones['day'] = df_transfomraciones['date'].dt.day\n"
   ]
  },
  {
   "cell_type": "code",
   "execution_count": null,
   "id": "330533ee",
   "metadata": {},
   "outputs": [],
   "source": [
    "# Eliminación de columnas irrelevantes\n",
    "df_transfomraciones = df_transfomraciones.drop(columns=['minimum_nights', 'maximum_nights'])"
   ]
  },
  {
   "cell_type": "code",
   "execution_count": 9,
   "id": "f9e6d689",
   "metadata": {},
   "outputs": [
    {
     "data": {
      "text/html": [
       "<div>\n",
       "<style scoped>\n",
       "    .dataframe tbody tr th:only-of-type {\n",
       "        vertical-align: middle;\n",
       "    }\n",
       "\n",
       "    .dataframe tbody tr th {\n",
       "        vertical-align: top;\n",
       "    }\n",
       "\n",
       "    .dataframe thead th {\n",
       "        text-align: right;\n",
       "    }\n",
       "</style>\n",
       "<table border=\"1\" class=\"dataframe\">\n",
       "  <thead>\n",
       "    <tr style=\"text-align: right;\">\n",
       "      <th></th>\n",
       "      <th>_id</th>\n",
       "      <th>listing_id</th>\n",
       "      <th>date</th>\n",
       "      <th>available</th>\n",
       "      <th>year</th>\n",
       "      <th>month</th>\n",
       "      <th>day</th>\n",
       "    </tr>\n",
       "  </thead>\n",
       "  <tbody>\n",
       "    <tr>\n",
       "      <th>0</th>\n",
       "      <td>68f06557b6fc8583a86f6501</td>\n",
       "      <td>35797</td>\n",
       "      <td>2025-06-26</td>\n",
       "      <td>False</td>\n",
       "      <td>2025</td>\n",
       "      <td>6</td>\n",
       "      <td>26</td>\n",
       "    </tr>\n",
       "    <tr>\n",
       "      <th>1</th>\n",
       "      <td>68f06557b6fc8583a86f78f8</td>\n",
       "      <td>6114798</td>\n",
       "      <td>2025-06-26</td>\n",
       "      <td>True</td>\n",
       "      <td>2025</td>\n",
       "      <td>6</td>\n",
       "      <td>26</td>\n",
       "    </tr>\n",
       "    <tr>\n",
       "      <th>2</th>\n",
       "      <td>68f06557b6fc8583a86f8fc4</td>\n",
       "      <td>247543</td>\n",
       "      <td>2025-06-26</td>\n",
       "      <td>False</td>\n",
       "      <td>2025</td>\n",
       "      <td>6</td>\n",
       "      <td>26</td>\n",
       "    </tr>\n",
       "    <tr>\n",
       "      <th>3</th>\n",
       "      <td>68f06557b6fc8583a86f9e63</td>\n",
       "      <td>6345035</td>\n",
       "      <td>2025-06-26</td>\n",
       "      <td>False</td>\n",
       "      <td>2025</td>\n",
       "      <td>6</td>\n",
       "      <td>26</td>\n",
       "    </tr>\n",
       "    <tr>\n",
       "      <th>4</th>\n",
       "      <td>68f06558b6fc8583a86fa698</td>\n",
       "      <td>6404543</td>\n",
       "      <td>2025-06-26</td>\n",
       "      <td>False</td>\n",
       "      <td>2025</td>\n",
       "      <td>6</td>\n",
       "      <td>26</td>\n",
       "    </tr>\n",
       "  </tbody>\n",
       "</table>\n",
       "</div>"
      ],
      "text/plain": [
       "                        _id  listing_id       date  available  year  month  \\\n",
       "0  68f06557b6fc8583a86f6501       35797 2025-06-26      False  2025      6   \n",
       "1  68f06557b6fc8583a86f78f8     6114798 2025-06-26       True  2025      6   \n",
       "2  68f06557b6fc8583a86f8fc4      247543 2025-06-26      False  2025      6   \n",
       "3  68f06557b6fc8583a86f9e63     6345035 2025-06-26      False  2025      6   \n",
       "4  68f06558b6fc8583a86fa698     6404543 2025-06-26      False  2025      6   \n",
       "\n",
       "   day  \n",
       "0   26  \n",
       "1   26  \n",
       "2   26  \n",
       "3   26  \n",
       "4   26  "
      ]
     },
     "metadata": {},
     "output_type": "display_data"
    }
   ],
   "source": [
    "display(df_transfomraciones.head())"
   ]
  }
 ],
 "metadata": {
  "kernelspec": {
   "display_name": "Curso_MachineLearning",
   "language": "python",
   "name": "python3"
  },
  "language_info": {
   "codemirror_mode": {
    "name": "ipython",
    "version": 3
   },
   "file_extension": ".py",
   "mimetype": "text/x-python",
   "name": "python",
   "nbconvert_exporter": "python",
   "pygments_lexer": "ipython3",
   "version": "3.11.5"
  }
 },
 "nbformat": 4,
 "nbformat_minor": 5
}
