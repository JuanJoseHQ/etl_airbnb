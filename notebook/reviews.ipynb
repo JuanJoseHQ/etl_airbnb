{
 "cells": [
  {
   "cell_type": "markdown",
   "id": "3cd3c67c",
   "metadata": {},
   "source": [
    "# Analisis Data reviews"
   ]
  },
  {
   "cell_type": "code",
   "execution_count": 1,
   "id": "f30e7e8b",
   "metadata": {},
   "outputs": [
    {
     "ename": "ModuleNotFoundError",
     "evalue": "No module named 'textblob'",
     "output_type": "error",
     "traceback": [
      "\u001b[1;31m---------------------------------------------------------------------------\u001b[0m",
      "\u001b[1;31mModuleNotFoundError\u001b[0m                       Traceback (most recent call last)",
      "Cell \u001b[1;32mIn[1], line 7\u001b[0m\n\u001b[0;32m      5\u001b[0m \u001b[38;5;28;01mimport\u001b[39;00m \u001b[38;5;21;01mnltk\u001b[39;00m\n\u001b[0;32m      6\u001b[0m \u001b[38;5;28;01mfrom\u001b[39;00m \u001b[38;5;21;01mnltk\u001b[39;00m\u001b[38;5;21;01m.\u001b[39;00m\u001b[38;5;21;01msentiment\u001b[39;00m\u001b[38;5;21;01m.\u001b[39;00m\u001b[38;5;21;01mvader\u001b[39;00m \u001b[38;5;28;01mimport\u001b[39;00m SentimentIntensityAnalyzer\n\u001b[1;32m----> 7\u001b[0m \u001b[38;5;28;01mfrom\u001b[39;00m \u001b[38;5;21;01mtextblob\u001b[39;00m \u001b[38;5;28;01mimport\u001b[39;00m TextBlob\n\u001b[0;32m      8\u001b[0m \u001b[38;5;28;01mfrom\u001b[39;00m \u001b[38;5;21;01mlangdetect\u001b[39;00m \u001b[38;5;28;01mimport\u001b[39;00m detect, DetectorFactory\n",
      "\u001b[1;31mModuleNotFoundError\u001b[0m: No module named 'textblob'"
     ]
    }
   ],
   "source": [
    "#imports\n",
    "import pandas as pd\n",
    "import matplotlib.pyplot as plt\n",
    "import seaborn as sns\n",
    "import nltk\n",
    "from nltk.sentiment.vader import SentimentIntensityAnalyzer\n",
    "from textblob import TextBlob\n",
    "from langdetect import detect, DetectorFactory"
   ]
  },
  {
   "cell_type": "markdown",
   "id": "a62fbec2",
   "metadata": {},
   "source": [
    "# Exploracion del Conjunto de Datos"
   ]
  },
  {
   "cell_type": "markdown",
   "id": "f9ac77d3",
   "metadata": {},
   "source": [
    "## Exploracion General de los datos"
   ]
  },
  {
   "cell_type": "markdown",
   "id": "9ffe605a",
   "metadata": {},
   "source": [
    "Leemos el csv e imprimimos el archivo para validar que si este correcto el dataframe"
   ]
  },
  {
   "cell_type": "code",
   "execution_count": 78,
   "id": "f62479fa",
   "metadata": {},
   "outputs": [
    {
     "name": "stdout",
     "output_type": "stream",
     "text": [
      "   listing_id        id        date  reviewer_id reviewer_name  \\\n",
      "0    10257549  59265221  2016-01-08     31043833       Karolis   \n",
      "1    10257549  59352234  2016-01-09      7248934         James   \n",
      "2    10257549  59456981  2016-01-10     52707457        Manuel   \n",
      "3    10257549  59661086  2016-01-13     52989229         Annie   \n",
      "4    10257549  59806795  2016-01-15     51159033        Svenja   \n",
      "\n",
      "                                            comments  \n",
      "0  The flat is very nice newly renovated. The hos...  \n",
      "1  Benito and his wife were great guests. Perfect...  \n",
      "2  Fue algo express. No pude volar y contacté con...  \n",
      "3  This was a very comfortable and conveniently l...  \n",
      "4  Nice place, really close to te airport - Nice ...  \n"
     ]
    }
   ],
   "source": [
    "#Lecura del archivo CSV\n",
    "df_completo = pd.read_csv('../data/raw/reviews.csv', sep = ',', encoding = 'utf-8')\n",
    "\n",
    "df = df_completo.head(10000).copy()\n",
    "#Imrpimir las primeras filas del DataFrame\n",
    "print(df.head())"
   ]
  },
  {
   "cell_type": "code",
   "execution_count": 60,
   "id": "f6a2004d",
   "metadata": {},
   "outputs": [
    {
     "name": "stdout",
     "output_type": "stream",
     "text": [
      "El DataFrame tiene 1000 filas y 6 columnas.\n",
      "El DataFrame completo tiene 1388226 filas y 6 columnas.\n"
     ]
    }
   ],
   "source": [
    "#Cantidad de columnas y filas\n",
    "print(f\"El DataFrame tiene {df.shape[0]} filas y {df.shape[1]} columnas.\")\n",
    "print(f\"El DataFrame completo tiene {df_completo.shape[0]} filas y {df_completo.shape[1]} columnas.\")"
   ]
  },
  {
   "cell_type": "code",
   "execution_count": 61,
   "id": "3e6a1fd2",
   "metadata": {},
   "outputs": [
    {
     "name": "stdout",
     "output_type": "stream",
     "text": [
      "<class 'pandas.core.frame.DataFrame'>\n",
      "RangeIndex: 1000 entries, 0 to 999\n",
      "Data columns (total 6 columns):\n",
      " #   Column         Non-Null Count  Dtype \n",
      "---  ------         --------------  ----- \n",
      " 0   listing_id     1000 non-null   int64 \n",
      " 1   id             1000 non-null   int64 \n",
      " 2   date           1000 non-null   object\n",
      " 3   reviewer_id    1000 non-null   int64 \n",
      " 4   reviewer_name  1000 non-null   object\n",
      " 5   comments       1000 non-null   object\n",
      "dtypes: int64(3), object(3)\n",
      "memory usage: 47.0+ KB\n",
      "None\n"
     ]
    }
   ],
   "source": [
    "#Estructura del DataFrame\n",
    "print(df.info())"
   ]
  },
  {
   "cell_type": "markdown",
   "id": "ba06c072",
   "metadata": {},
   "source": [
    "## Análisis de las columnas tipo *object* (no numéricas)\n",
    "\n",
    "Se realiza el análisis de las columnas categóricas y de texto con el fin de comprender su estructura y definir las transformaciones necesarias para su posterior procesamiento.  \n",
    "  \n",
    "Durante la revisión se identificaron los siguientes puntos relevantes:\n",
    "- **Columna de fecha:** presentan el formato estándar `aaaa-mm-dd`, por lo que **no requiere transformación adicional**.\n",
    "- **Columna de nombre:** al ser un nombre, no necesitamos normalizarlo. Como mucho solo es Capitalizar el texto.  \n",
    "- **Columna de comentarios:** Hay comentarios en inglés y español, en este caso, haremos un análisis de sensibilidad pero no es necesario cambiar o normalizar nada. "
   ]
  },
  {
   "cell_type": "code",
   "execution_count": 62,
   "id": "7e57084e",
   "metadata": {},
   "outputs": [
    {
     "data": {
      "text/html": [
       "<div>\n",
       "<style scoped>\n",
       "    .dataframe tbody tr th:only-of-type {\n",
       "        vertical-align: middle;\n",
       "    }\n",
       "\n",
       "    .dataframe tbody tr th {\n",
       "        vertical-align: top;\n",
       "    }\n",
       "\n",
       "    .dataframe thead th {\n",
       "        text-align: right;\n",
       "    }\n",
       "</style>\n",
       "<table border=\"1\" class=\"dataframe\">\n",
       "  <thead>\n",
       "    <tr style=\"text-align: right;\">\n",
       "      <th></th>\n",
       "      <th>date</th>\n",
       "      <th>reviewer_name</th>\n",
       "      <th>comments</th>\n",
       "    </tr>\n",
       "  </thead>\n",
       "  <tbody>\n",
       "    <tr>\n",
       "      <th>0</th>\n",
       "      <td>2016-01-08</td>\n",
       "      <td>Karolis</td>\n",
       "      <td>The flat is very nice newly renovated. The hos...</td>\n",
       "    </tr>\n",
       "    <tr>\n",
       "      <th>1</th>\n",
       "      <td>2016-01-09</td>\n",
       "      <td>James</td>\n",
       "      <td>Benito and his wife were great guests. Perfect...</td>\n",
       "    </tr>\n",
       "    <tr>\n",
       "      <th>2</th>\n",
       "      <td>2016-01-10</td>\n",
       "      <td>Manuel</td>\n",
       "      <td>Fue algo express. No pude volar y contacté con...</td>\n",
       "    </tr>\n",
       "    <tr>\n",
       "      <th>3</th>\n",
       "      <td>2016-01-13</td>\n",
       "      <td>Annie</td>\n",
       "      <td>This was a very comfortable and conveniently l...</td>\n",
       "    </tr>\n",
       "    <tr>\n",
       "      <th>4</th>\n",
       "      <td>2016-01-15</td>\n",
       "      <td>Svenja</td>\n",
       "      <td>Nice place, really close to te airport - Nice ...</td>\n",
       "    </tr>\n",
       "    <tr>\n",
       "      <th>5</th>\n",
       "      <td>2016-02-01</td>\n",
       "      <td>Ryan &amp; Caitlin</td>\n",
       "      <td>We stayed at the house during a brief stay in ...</td>\n",
       "    </tr>\n",
       "    <tr>\n",
       "      <th>6</th>\n",
       "      <td>2016-02-07</td>\n",
       "      <td>Nikki</td>\n",
       "      <td>Great place to stay!  The hosts were friendly ...</td>\n",
       "    </tr>\n",
       "    <tr>\n",
       "      <th>7</th>\n",
       "      <td>2016-02-09</td>\n",
       "      <td>Ian</td>\n",
       "      <td>Juana fue MUY amable y atenta con nosotros. Ll...</td>\n",
       "    </tr>\n",
       "    <tr>\n",
       "      <th>8</th>\n",
       "      <td>2016-02-13</td>\n",
       "      <td>Elise</td>\n",
       "      <td>Very nice apartment closed to the airport as d...</td>\n",
       "    </tr>\n",
       "    <tr>\n",
       "      <th>9</th>\n",
       "      <td>2016-02-15</td>\n",
       "      <td>Katie</td>\n",
       "      <td>Benito's place was very convenient to the airp...</td>\n",
       "    </tr>\n",
       "  </tbody>\n",
       "</table>\n",
       "</div>"
      ],
      "text/plain": [
       "         date   reviewer_name  \\\n",
       "0  2016-01-08         Karolis   \n",
       "1  2016-01-09           James   \n",
       "2  2016-01-10          Manuel   \n",
       "3  2016-01-13           Annie   \n",
       "4  2016-01-15          Svenja   \n",
       "5  2016-02-01  Ryan & Caitlin   \n",
       "6  2016-02-07           Nikki   \n",
       "7  2016-02-09             Ian   \n",
       "8  2016-02-13           Elise   \n",
       "9  2016-02-15           Katie   \n",
       "\n",
       "                                            comments  \n",
       "0  The flat is very nice newly renovated. The hos...  \n",
       "1  Benito and his wife were great guests. Perfect...  \n",
       "2  Fue algo express. No pude volar y contacté con...  \n",
       "3  This was a very comfortable and conveniently l...  \n",
       "4  Nice place, really close to te airport - Nice ...  \n",
       "5  We stayed at the house during a brief stay in ...  \n",
       "6  Great place to stay!  The hosts were friendly ...  \n",
       "7  Juana fue MUY amable y atenta con nosotros. Ll...  \n",
       "8  Very nice apartment closed to the airport as d...  \n",
       "9  Benito's place was very convenient to the airp...  "
      ]
     },
     "execution_count": 62,
     "metadata": {},
     "output_type": "execute_result"
    }
   ],
   "source": [
    "obj_cols = df.select_dtypes(include='object')\n",
    "# Mostramos todas las columnas sin truncar\n",
    "pd.set_option('display.max_columns', None)\n",
    "pd.set_option('display.width', None)\n",
    "obj_cols.head(10)"
   ]
  },
  {
   "cell_type": "markdown",
   "id": "8b913494",
   "metadata": {},
   "source": [
    "## Análisis de las columnas tipo *number* general\n",
    "\n",
    "Se realiza el mismo proceso de análisis que en las columnas no numéricas, pero enfocado en las variables de tipo numérico.  \n",
    "\n",
    "En general, **no se identifican discrepancias** en los datos numéricos: los valores presentan solamente ids, por lo que es un dato de relación más que calificativo.\n"
   ]
  },
  {
   "cell_type": "code",
   "execution_count": null,
   "id": "f742875d",
   "metadata": {},
   "outputs": [
    {
     "data": {
      "text/html": [
       "<div>\n",
       "<style scoped>\n",
       "    .dataframe tbody tr th:only-of-type {\n",
       "        vertical-align: middle;\n",
       "    }\n",
       "\n",
       "    .dataframe tbody tr th {\n",
       "        vertical-align: top;\n",
       "    }\n",
       "\n",
       "    .dataframe thead th {\n",
       "        text-align: right;\n",
       "    }\n",
       "</style>\n",
       "<table border=\"1\" class=\"dataframe\">\n",
       "  <thead>\n",
       "    <tr style=\"text-align: right;\">\n",
       "      <th></th>\n",
       "      <th>listing_id</th>\n",
       "      <th>id</th>\n",
       "      <th>reviewer_id</th>\n",
       "    </tr>\n",
       "  </thead>\n",
       "  <tbody>\n",
       "    <tr>\n",
       "      <th>0</th>\n",
       "      <td>10257549</td>\n",
       "      <td>59265221</td>\n",
       "      <td>31043833</td>\n",
       "    </tr>\n",
       "    <tr>\n",
       "      <th>1</th>\n",
       "      <td>10257549</td>\n",
       "      <td>59352234</td>\n",
       "      <td>7248934</td>\n",
       "    </tr>\n",
       "    <tr>\n",
       "      <th>2</th>\n",
       "      <td>10257549</td>\n",
       "      <td>59456981</td>\n",
       "      <td>52707457</td>\n",
       "    </tr>\n",
       "    <tr>\n",
       "      <th>3</th>\n",
       "      <td>10257549</td>\n",
       "      <td>59661086</td>\n",
       "      <td>52989229</td>\n",
       "    </tr>\n",
       "    <tr>\n",
       "      <th>4</th>\n",
       "      <td>10257549</td>\n",
       "      <td>59806795</td>\n",
       "      <td>51159033</td>\n",
       "    </tr>\n",
       "    <tr>\n",
       "      <th>5</th>\n",
       "      <td>10257549</td>\n",
       "      <td>61251387</td>\n",
       "      <td>4716480</td>\n",
       "    </tr>\n",
       "    <tr>\n",
       "      <th>6</th>\n",
       "      <td>10257549</td>\n",
       "      <td>61738556</td>\n",
       "      <td>53051726</td>\n",
       "    </tr>\n",
       "    <tr>\n",
       "      <th>7</th>\n",
       "      <td>10257549</td>\n",
       "      <td>61967208</td>\n",
       "      <td>48955065</td>\n",
       "    </tr>\n",
       "    <tr>\n",
       "      <th>8</th>\n",
       "      <td>10257549</td>\n",
       "      <td>62323327</td>\n",
       "      <td>36070015</td>\n",
       "    </tr>\n",
       "    <tr>\n",
       "      <th>9</th>\n",
       "      <td>10257549</td>\n",
       "      <td>62544677</td>\n",
       "      <td>30413204</td>\n",
       "    </tr>\n",
       "  </tbody>\n",
       "</table>\n",
       "</div>"
      ],
      "text/plain": [
       "   listing_id        id  reviewer_id\n",
       "0    10257549  59265221     31043833\n",
       "1    10257549  59352234      7248934\n",
       "2    10257549  59456981     52707457\n",
       "3    10257549  59661086     52989229\n",
       "4    10257549  59806795     51159033\n",
       "5    10257549  61251387      4716480\n",
       "6    10257549  61738556     53051726\n",
       "7    10257549  61967208     48955065\n",
       "8    10257549  62323327     36070015\n",
       "9    10257549  62544677     30413204"
      ]
     },
     "metadata": {},
     "output_type": "display_data"
    }
   ],
   "source": [
    "df_num = df.select_dtypes(include=['number'])\n",
    "pd.set_option('display.max_columns', None)  \n",
    "display(df_num.head(10))"
   ]
  },
  {
   "cell_type": "markdown",
   "id": "607af585",
   "metadata": {},
   "source": [
    "## Análisis de valores nulos\n",
    "\n",
    "Se verifica el porcentaje de valores nulos presentes en cada columna del conjunto de datos.  \n",
    "Durante este análisis se observa que **la columna comments presenta menos del 0.01% de valores faltantes**, por lo que **se considera apropiado no eliminarlas**, dado que nos da un indicativo en cuanto a qué tan seguido dejan comentarios, ya sean buenos o malos calificando la publicación."
   ]
  },
  {
   "cell_type": "code",
   "execution_count": 64,
   "id": "86c8761b",
   "metadata": {},
   "outputs": [
    {
     "name": "stdout",
     "output_type": "stream",
     "text": [
      "               Nulos    %\n",
      "listing_id         0  0.0\n",
      "id                 0  0.0\n",
      "date               0  0.0\n",
      "reviewer_id        0  0.0\n",
      "reviewer_name      0  0.0\n",
      "comments           0  0.0\n"
     ]
    }
   ],
   "source": [
    "nulos = df.isnull().sum()\n",
    "por_nulos   = (df.isnull().mean() * 100).round(2)\n",
    "tabla = pd.concat([nulos, por_nulos], axis=1, keys=['Nulos', '%'])\n",
    "df_nulos = tabla.sort_values(by='Nulos', ascending=False)\n",
    "pd.set_option('display.max_rows', None)\n",
    "pd.set_option('display.max_columns', None)\n",
    "print(df_nulos)"
   ]
  },
  {
   "cell_type": "markdown",
   "id": "9ebb137c",
   "metadata": {},
   "source": [
    "## Análisis de duplicados\n",
    "No se eliminan los datos duplicados, ya que es normal que los inquilinos realicen comentarios genéricos, como \"Bueno\" o \"Regular\".\n",
    "Este podría ser usado en un análisis para ver qué tan en serio se toman los reviews algunos inquilinos."
   ]
  },
  {
   "cell_type": "code",
   "execution_count": null,
   "id": "884a3013",
   "metadata": {},
   "outputs": [
    {
     "name": "stdout",
     "output_type": "stream",
     "text": [
      "\n",
      "Total de filas duplicadas (considerando todas las columnas): 0\n",
      "Total de comentarios duplicados (solo columna 'comments'): 139\n"
     ]
    }
   ],
   "source": [
    "# Conteo de filas duplicadas\n",
    "total_duplicados = df.duplicated().sum()\n",
    "print(f\"\\nTotal de filas duplicadas (considerando todas las columnas): {total_duplicados}\")\n",
    "\n",
    "# Analizar duplicados en la columna 'comments' (posibles comentarios idénticos)\n",
    "duplicados_comments = df['comments'].duplicated().sum()\n",
    "print(f\"Total de comentarios duplicados (solo columna 'comments'): {duplicados_comments}\")"
   ]
  },
  {
   "cell_type": "markdown",
   "id": "08401eff",
   "metadata": {},
   "source": [
    "En una muestra de 10.000 reviews, hay 139 comentarios duplicados, no es un valor tan significativo pero representa más del 1%"
   ]
  },
  {
   "cell_type": "markdown",
   "id": "4ec0e0d5",
   "metadata": {},
   "source": [
    "## Detección de valores atípicos enb la puntuación de sentimiento\n",
    "A pesar de que no hayan columnas como price o minimum_nights, podemos analizar los outliers en la Puntuación compuesta que acabamos de generar, ya que un outlier en sentimiento es relevante (Ejemplo: Un valor de -1.0 cuando la media es 0.8)."
   ]
  },
  {
   "cell_type": "code",
   "execution_count": 86,
   "id": "3abe5927",
   "metadata": {},
   "outputs": [
    {
     "data": {
      "image/png": "[encoded data removed]",
      "text/plain": [
       "<Figure size 800x600 with 1 Axes>"
      ]
     },
     "metadata": {},
     "output_type": "display_data"
    }
   ],
   "source": [
    "plt.figure(figsize=(8, 6))\n",
    "# Boxplot de la Puntuación Compuesta\n",
    "sns.boxplot(y=df['Puntuacion_Compuesta'])\n",
    "plt.title('Boxplot de Puntuación de Sentimiento Compuesta')\n",
    "plt.ylabel('Puntuacion_Compuesta')\n",
    "plt.show()"
   ]
  },
  {
   "cell_type": "markdown",
   "id": "0f89a630",
   "metadata": {},
   "source": [
    "### Resumen estadístico para identificar valores extremos"
   ]
  },
  {
   "cell_type": "code",
   "execution_count": 87,
   "id": "cce94fc4",
   "metadata": {},
   "outputs": [
    {
     "name": "stdout",
     "output_type": "stream",
     "text": [
      "\n",
      "Estadísticas Descriptivas de Puntuacion_Compuesta:\n",
      "count    10000.000000\n",
      "mean         0.516954\n",
      "std          0.451373\n",
      "min         -1.000000\n",
      "25%          0.000000\n",
      "50%          0.760000\n",
      "75%          0.952100\n",
      "max          1.000000\n",
      "Name: Puntuacion_Compuesta, dtype: float64\n"
     ]
    }
   ],
   "source": [
    "print(\"\\nEstadísticas Descriptivas de Puntuacion_Compuesta:\")\n",
    "print(df['Puntuacion_Compuesta'].describe())"
   ]
  },
  {
   "cell_type": "markdown",
   "id": "7f7b89c4",
   "metadata": {},
   "source": [
    "### Identificación de Outliers (con IQR)"
   ]
  },
  {
   "cell_type": "code",
   "execution_count": 88,
   "id": "3ffb1d33",
   "metadata": {},
   "outputs": [
    {
     "name": "stdout",
     "output_type": "stream",
     "text": [
      "\n",
      "Total de Outliers detectados (basado en IQR): 0\n",
      "Ejemplo de un Outlier Negativo (Puntuación < -1.4282):\n",
      "No hay outliers negativos en esta muestra.\n"
     ]
    }
   ],
   "source": [
    "# Identificación de Outliers (ejemplo con IQR)\n",
    "Q1 = df['Puntuacion_Compuesta'].quantile(0.25)\n",
    "Q3 = df['Puntuacion_Compuesta'].quantile(0.75)\n",
    "IQR = Q3 - Q1\n",
    "limite_inferior = Q1 - 1.5 * IQR\n",
    "limite_superior = Q3 + 1.5 * IQR\n",
    "\n",
    "outliers_negativos = df[df['Puntuacion_Compuesta'] < limite_inferior]\n",
    "outliers_positivos = df[df['Puntuacion_Compuesta'] > limite_superior]\n",
    "\n",
    "print(f\"\\nTotal de Outliers detectados (basado en IQR): {len(outliers_negativos) + len(outliers_positivos)}\")\n",
    "print(f\"Ejemplo de un Outlier Negativo (Puntuación < {limite_inferior:.4f}):\")\n",
    "if not outliers_negativos.empty:\n",
    "    print(outliers_negativos[['comments', 'Puntuacion_Compuesta', 'Sentimiento']].head(1).to_string(index=False))\n",
    "else:\n",
    "    print(\"No hay outliers negativos en esta muestra.\")"
   ]
  },
  {
   "cell_type": "markdown",
   "id": "1128498b",
   "metadata": {},
   "source": [
    "# Clasificación de sentimientos (Inglés y Español)\n",
    "Configuración de los recursos"
   ]
  },
  {
   "cell_type": "code",
   "execution_count": 65,
   "id": "d3351db0",
   "metadata": {},
   "outputs": [
    {
     "name": "stderr",
     "output_type": "stream",
     "text": [
      "[nltk_data] Downloading package vader_lexicon to\n",
      "[nltk_data]     C:\\Users\\User9\\AppData\\Roaming\\nltk_data...\n",
      "[nltk_data]   Package vader_lexicon is already up-to-date!\n"
     ]
    }
   ],
   "source": [
    "# Configuración para reproducibilidad en langdetect\n",
    "DetectorFactory.seed = 0\n",
    "nltk.download('vader_lexicon')\n",
    "\n",
    "# Descargar recursos de NLTK (si es la primera vez)\n",
    "try:\n",
    "    nltk.data.find('sentiment/vader_lexicon.zip')\n",
    "except nltk.downloader.DownloadError:\n",
    "    nltk.download('vader_lexicon')\n",
    "\n",
    "# Inicializar VADER (para inglés)\n",
    "vader_analyzer = SentimentIntensityAnalyzer()"
   ]
  },
  {
   "cell_type": "markdown",
   "id": "b3537ad3",
   "metadata": {},
   "source": [
    "## Función de clasificación multilingüe"
   ]
  },
  {
   "cell_type": "markdown",
   "id": "07a28b37",
   "metadata": {},
   "source": [
    "Clasifica un comentario como 'Positivo', 'Neutral' o 'Negativo', detectando si es español o inglés.  \n",
    "Umbrales de sensibilidad: Positivo >= 0.05, Negativo <= -0.05"
   ]
  },
  {
   "cell_type": "code",
   "execution_count": 66,
   "id": "4763b952",
   "metadata": {},
   "outputs": [],
   "source": [
    "def clasificar_sentimiento_multilingue_v2(comentario):\n",
    "    if pd.isna(comentario) or str(comentario).strip() == \"\":\n",
    "        return 'Neutral', 0.0\n",
    "\n",
    "    comentario_str = str(comentario).strip()\n",
    "    score = 0.0\n",
    "    lang = 'unk' # Unknown language\n",
    "    \n",
    "    try:\n",
    "        lang = detect(comentario_str)\n",
    "    except Exception:\n",
    "        # Si la detección falla (ej. comentario muy corto)\n",
    "        lang = 'unk'\n",
    "\n",
    "    try:\n",
    "        if lang == 'en':\n",
    "            # VADER para Inglés (compound score normalizado -1 a 1)\n",
    "            vs = vader_analyzer.polarity_scores(comentario_str)\n",
    "            score = vs['compound']\n",
    "        elif lang == 'es':\n",
    "            # TextBlob para Español (polarity score -1 a 1)\n",
    "            # TextBlob funciona con un léxico básico para español sin necesidad de traducción\n",
    "            score = TextBlob(comentario_str).sentiment.polarity\n",
    "        else:\n",
    "            # Si el idioma no es 'en' o 'es', o falla la detección, se asume neutral\n",
    "            score = 0.0 \n",
    "            \n",
    "    except Exception:\n",
    "        # Fallback si el análisis de sentimiento falla\n",
    "        score = 0.0\n",
    "    \n",
    "    # Aplicar los umbrales de sensibilidad definidos (± 0.05)\n",
    "    if score >= 0.05:\n",
    "        sentimiento = 'Positivo'\n",
    "    elif score <= -0.05:\n",
    "        sentimiento = 'Negativo'\n",
    "    else:\n",
    "        sentimiento = 'Neutral'\n",
    "        \n",
    "    return sentimiento, score"
   ]
  },
  {
   "cell_type": "markdown",
   "id": "9557260e",
   "metadata": {},
   "source": [
    "## Aplicación al DataFrame\n",
    "Más específicamente a la columna 'comments'"
   ]
  },
  {
   "cell_type": "code",
   "execution_count": 79,
   "id": "2fe69ca3",
   "metadata": {},
   "outputs": [
    {
     "name": "stdout",
     "output_type": "stream",
     "text": [
      "DataFrame con la Clasificación Multilingüe de Sentimientos:\n",
      "                                            comments  Puntuacion_Compuesta  \\\n",
      "0  The flat is very nice newly renovated. The hos...              0.917000   \n",
      "1  Benito and his wife were great guests. Perfect...              0.938600   \n",
      "2  Fue algo express. No pude volar y contacté con...              0.000000   \n",
      "3  This was a very comfortable and conveniently l...              0.986300   \n",
      "4  Nice place, really close to te airport - Nice ...              0.680800   \n",
      "5  We stayed at the house during a brief stay in ...              0.955200   \n",
      "6  Great place to stay!  The hosts were friendly ...              0.982600   \n",
      "7  Juana fue MUY amable y atenta con nosotros. Ll...              0.260417   \n",
      "8  Very nice apartment closed to the airport as d...              0.398100   \n",
      "9  Benito's place was very convenient to the airp...              0.915300   \n",
      "\n",
      "  Sentimiento  \n",
      "0    Positivo  \n",
      "1    Positivo  \n",
      "2     Neutral  \n",
      "3    Positivo  \n",
      "4    Positivo  \n",
      "5    Positivo  \n",
      "6    Positivo  \n",
      "7    Positivo  \n",
      "8    Positivo  \n",
      "9    Positivo  \n"
     ]
    }
   ],
   "source": [
    "# Aplicar la función a la columna 'comments'\n",
    "df[['Sentimiento', 'Puntuacion_Compuesta']] = df['comments'].apply(\n",
    "    lambda x: pd.Series(clasificar_sentimiento_multilingue_v2(x))\n",
    ")\n",
    "\n",
    "# Imprimir las primeras filas con los resultados para verificar\n",
    "print(\"DataFrame con la Clasificación Multilingüe de Sentimientos:\")\n",
    "print(df[['comments', 'Puntuacion_Compuesta', 'Sentimiento']].head(10))"
   ]
  },
  {
   "cell_type": "markdown",
   "id": "54fe8743",
   "metadata": {},
   "source": [
    "## Análisis de sensibilidad (Distribución)"
   ]
  },
  {
   "cell_type": "markdown",
   "id": "7bd6effa",
   "metadata": {},
   "source": [
    "Conteo y porcentaje de cada categoría"
   ]
  },
  {
   "cell_type": "code",
   "execution_count": 81,
   "id": "0d52eef6",
   "metadata": {},
   "outputs": [
    {
     "name": "stdout",
     "output_type": "stream",
     "text": [
      "\n",
      "Análisis de Sensibilidad: Distribución de Sentimientos\n",
      "------------------------------------------------------------\n",
      "Conteo Total:\n",
      "Sentimiento\n",
      "Positivo    6107\n",
      "Neutral     3805\n",
      "Negativo      88\n",
      "Name: count, dtype: int64\n",
      "\n",
      "Distribución Porcentual:\n",
      "Sentimiento\n",
      "Positivo    61.07%\n",
      "Neutral     38.05%\n",
      "Negativo     0.88%\n",
      "Name: proportion, dtype: object\n"
     ]
    }
   ],
   "source": [
    "conteo_sentimientos = df['Sentimiento'].value_counts()\n",
    "porcentaje_sentimientos = df['Sentimiento'].value_counts(normalize=True) * 100\n",
    "\n",
    "print(\"\\nAnálisis de Sensibilidad: Distribución de Sentimientos\")\n",
    "print(\"-\" * 60)\n",
    "print(\"Conteo Total:\")\n",
    "print(conteo_sentimientos)\n",
    "print(\"\\nDistribución Porcentual:\")\n",
    "print(porcentaje_sentimientos.round(2).astype(str) + '%')"
   ]
  },
  {
   "cell_type": "markdown",
   "id": "f91bd260",
   "metadata": {},
   "source": [
    "## Visualización de distribución"
   ]
  },
  {
   "cell_type": "code",
   "execution_count": 82,
   "id": "cb0228d8",
   "metadata": {},
   "outputs": [
    {
     "name": "stderr",
     "output_type": "stream",
     "text": [
      "C:\\Users\\User9\\AppData\\Local\\Temp\\ipykernel_27720\\1294715864.py:6: FutureWarning: \n",
      "\n",
      "Passing `palette` without assigning `hue` is deprecated and will be removed in v0.14.0. Assign the `x` variable to `hue` and set `legend=False` for the same effect.\n",
      "\n",
      "  sns.barplot(x=porcentaje_sentimientos.index, y=porcentaje_sentimientos.values, palette=palette, order=['Positivo', 'Neutral', 'Negativo'])\n"
     ]
    },
    {
     "data": {
      "image/png": "[encoded data removed]",
      "text/plain": [
       "<Figure size 1000x600 with 1 Axes>"
      ]
     },
     "metadata": {},
     "output_type": "display_data"
    }
   ],
   "source": [
    "plt.figure(figsize=(10, 6))\n",
    "# Definición de colores\n",
    "palette = {'Positivo': 'green', 'Neutral': 'gray', 'Negativo': 'red'} \n",
    "\n",
    "# Crear el gráfico de barras\n",
    "sns.barplot(x=porcentaje_sentimientos.index, y=porcentaje_sentimientos.values, palette=palette, order=['Positivo', 'Neutral', 'Negativo'])\n",
    "\n",
    "# Añadir etiquetas de porcentaje a las barras\n",
    "for index, value in enumerate(porcentaje_sentimientos.values):\n",
    "    plt.text(index, value + 0.5, f'{value:.2f}%', ha='center')\n",
    "\n",
    "plt.title('Distribución Porcentual del Sentimiento de Reviews de Airbnb (Multilingüe)')\n",
    "plt.xlabel('Sentimiento')\n",
    "plt.ylabel('Porcentaje de Reviews')\n",
    "plt.grid(axis='y', linestyle='--', alpha=0.7)\n",
    "plt.show()"
   ]
  },
  {
   "cell_type": "markdown",
   "id": "ca55c7e4",
   "metadata": {},
   "source": [
    "## Revisión de los umbrales\n",
    "Revisa cómo se comportan los comentarios clasificados como \"Neutros\".  \n",
    "Si muchos tienen puntuaciones muy cercanas a los límites de 0.05 y -0.05,  \n",
    "la clasificación es sensible a los cambios en el umbral."
   ]
  },
  {
   "cell_type": "code",
   "execution_count": 84,
   "id": "59f0afed",
   "metadata": {},
   "outputs": [
    {
     "name": "stdout",
     "output_type": "stream",
     "text": [
      "\n",
      "Análisis de Sensibilidad en los Márgenes:\n",
      "  Rango de Puntuaciones para 'Neutral' (3805 comentarios):\n",
      "  Puntuación Mínima (cercana a Negativo): -0.0333 (El umbral es -0.05)\n",
      "  Puntuación Máxima (cercana a Positivo): 0.0367 (El umbral es 0.05)\n"
     ]
    }
   ],
   "source": [
    "print(\"\\nAnálisis de Sensibilidad en los Márgenes:\")\n",
    "neutros = df[df['Sentimiento'] == 'Neutral']['Puntuacion_Compuesta']\n",
    "\n",
    "if not neutros.empty:\n",
    "    print(f\"  Rango de Puntuaciones para 'Neutral' ({len(neutros)} comentarios):\")\n",
    "    print(f\"  Puntuación Mínima (cercana a Negativo): {neutros.min():.4f} (El umbral es -0.05)\")\n",
    "    print(f\"  Puntuación Máxima (cercana a Positivo): {neutros.max():.4f} (El umbral es 0.05)\")\n",
    "else:\n",
    "    print(\"No hay comentarios 'Neutrales'.\")"
   ]
  },
  {
   "cell_type": "markdown",
   "id": "15d3f9f5",
   "metadata": {},
   "source": [
    "# Conclusión\n",
    "El dataset de muestra es de alta calidad en cuanto a la densidad de datos (pocas columnas, pocos nulos).  \n",
    "No se maneja ningún tipo de transformación en los datos, no es necesario. Como mucho s etransformarían las columnas de fechas de tipo object a string para el guardado en base de datos sin generar errores."
   ]
  }
 ],
 "metadata": {
  "kernelspec": {
   "display_name": "Curso_MachineLearning",
   "language": "python",
   "name": "python3"
  },
  "language_info": {
   "codemirror_mode": {
    "name": "ipython",
    "version": 3
   },
   "file_extension": ".py",
   "mimetype": "text/x-python",
   "name": "python",
   "nbconvert_exporter": "python",
   "pygments_lexer": "ipython3",
   "version": "3.11.5"
  }
 },
 "nbformat": 4,
 "nbformat_minor": 5
}
